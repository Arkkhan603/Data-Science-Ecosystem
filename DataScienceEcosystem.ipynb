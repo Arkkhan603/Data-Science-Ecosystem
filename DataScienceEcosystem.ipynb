{
 "cells": [
  {
   "cell_type": "markdown",
   "id": "55292ea6-f034-46a8-abfe-e5321a18ab3a",
   "metadata": {},
   "source": [
    "# Data Science Tools and Ecosystem"
   ]
  },
  {
   "cell_type": "markdown",
   "id": "93cba6cb-4ee3-4214-bcc1-978054481038",
   "metadata": {},
   "source": [
    "In this notebook, Data Science Tools and Ecosystem are summarized."
   ]
  },
  {
   "cell_type": "markdown",
   "id": "2823ba51-004a-46b0-85d3-a16a6fe7dfa7",
   "metadata": {
    "tags": []
   },
   "source": [
    "__Objectives:__\n",
    "\n",
    "* List data science languages.\n",
    "* List libraries used in data science.\n",
    "* Table containing open source data science tools.\n",
    "* Create a code cell to multiply and add numbers.\n",
    "* Create a code cell to convert minutes to hours.\n"
   ]
  },
  {
   "cell_type": "markdown",
   "id": "6285efe3-f8db-4088-afb5-da97d628b89a",
   "metadata": {},
   "source": [
    "Some of the popular languages that Data Scientists use are:\n",
    "\n",
    "1. Python\n",
    "2. Java\n",
    "3. SQL\n",
    "4. R"
   ]
  },
  {
   "cell_type": "markdown",
   "id": "1f670c14-d0d9-4ab1-9172-8877c140e786",
   "metadata": {},
   "source": [
    "Some of the commonly used libraries used by Data Scientists include:\n",
    "\n",
    "1. Pandas\n",
    "2. Numpy\n",
    "3. Matplotlib\n",
    "4. Scipy"
   ]
  },
  {
   "cell_type": "markdown",
   "id": "ced0dae4-6070-4747-a0e5-15da99b8a921",
   "metadata": {},
   "source": [
    "|Data Science Tools|\n",
    "------------------\n",
    "|R Studio|\n",
    "|Jupyter Notebook|\n",
    "|Google Colaboratory|\n",
    "---------------------\n",
    "\n",
    "\n"
   ]
  },
  {
   "cell_type": "markdown",
   "id": "ebb604c9-c58a-4614-9c4a-521b97ac8a1c",
   "metadata": {},
   "source": [
    "### Below are a few examples of evaluating arithmetic expressions in Python:"
   ]
  },
  {
   "cell_type": "code",
   "execution_count": 1,
   "id": "1047b272-0a61-41cf-bc9a-8561129fb55c",
   "metadata": {
    "tags": []
   },
   "outputs": [
    {
     "data": {
      "text/plain": [
       "17"
      ]
     },
     "execution_count": 1,
     "metadata": {},
     "output_type": "execute_result"
    }
   ],
   "source": [
    "#This a simple arithmetic expression to mutiply then add integers\n",
    "(3*4)+5"
   ]
  },
  {
   "cell_type": "code",
   "execution_count": 3,
   "id": "38c4fe3a-ca92-4d37-ab40-11cf99db4e58",
   "metadata": {
    "tags": []
   },
   "outputs": [
    {
     "name": "stdout",
     "output_type": "stream",
     "text": [
      "3\n"
     ]
    }
   ],
   "source": [
    "# This will convert 200 minutes to hours by diving by 60\n",
    "\n",
    "m = 200\n",
    "h = m // 60\n",
    "print(h)"
   ]
  },
  {
   "cell_type": "markdown",
   "id": "a0969b09-8495-4350-8761-615e49c0db29",
   "metadata": {},
   "source": [
    "## Author:\n",
    "A2RK"
   ]
  }
 ],
 "metadata": {
  "kernelspec": {
   "display_name": "Python 3 (ipykernel)",
   "language": "python",
   "name": "python3"
  },
  "language_info": {
   "codemirror_mode": {
    "name": "ipython",
    "version": 3
   },
   "file_extension": ".py",
   "mimetype": "text/x-python",
   "name": "python",
   "nbconvert_exporter": "python",
   "pygments_lexer": "ipython3",
   "version": "3.11.5"
  }
 },
 "nbformat": 4,
 "nbformat_minor": 5
}
